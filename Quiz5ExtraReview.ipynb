{
 "cells": [
  {
   "cell_type": "markdown",
   "metadata": {},
   "source": [
    "# Problem 1\n",
    "Let $h(x) = (x^4 - 2) f(x)$, $f(2) = 2$, and $f'(2) = 4$.  Then what is $h'(2)$?"
   ]
  },
  {
   "cell_type": "markdown",
   "metadata": {},
   "source": [
    "### Answer\n",
    "We can write $h(x) = f(x) g(x)$, where $g(x) = x^4 - 2$.  By the product rule, we have that\n",
    "\n",
    "$h'(x) = f(x)g'(x) + g(x)f'(x)$\n",
    "\n",
    "and we compute $g'(x) = 4x^3$\n",
    "\n",
    "Therefore, $h'(x) = 4x^3f(x) + (x^4-2)f'(x)$\n",
    "\n",
    "And $h'(2) = 4*2^3*f(2) + (2^4-2)*f'(2) = 32*2 + 14*4 = 120$"
   ]
  },
  {
   "cell_type": "markdown",
   "metadata": {},
   "source": [
    "# Problem 2"
   ]
  },
  {
   "cell_type": "markdown",
   "metadata": {},
   "source": [
    "Let $f(x) = x^{1/5}$.  What is $f'(x)$?  Where is $f'(x)$ discontinous?  What is the range of $f'(x)$?"
   ]
  },
  {
   "cell_type": "markdown",
   "metadata": {},
   "source": [
    "## Answer\n",
    "By the power rule, $\\Large f'(x) = \\frac{1}{5}x^{-4/5} = \\frac{1}{\\sqrt[5]{x^4}}$\n",
    "\n",
    "From this, we see that we have x raised to an even power in the denominator.  This means that $f'(x)$ is always positive.  Furthermore, $\\lim_{x \\to +/- \\infty} f'(x) = 0$, but it never quite reaches $0$.  So the range is $(0, \\infty)$.  \n",
    "\n",
    "When $x = 0$, we end up with a continuity problem, because we have $1/0$.  The function is plotted below with its derivative.  Notice how the derivative is always positive, but it blows up at zero, and its limit is zero in either direction"
   ]
  },
  {
   "cell_type": "code",
   "execution_count": 9,
   "metadata": {},
   "outputs": [],
   "source": [
    "# This is just a technicality with code, but we have to do something annoying \n",
    "# to get around the fact that Sage returns complex numbers for negative inputs \n",
    "# rasied to fractions\n",
    "f = sign(x)*abs(x)^(1/5)\n",
    "fprime = 1/((x^4)**0.2)"
   ]
  },
  {
   "cell_type": "code",
   "execution_count": 18,
   "metadata": {},
   "outputs": [
    {
     "data": {
      "image/png": "[encoded data removed]",
      "text/plain": [
       "Graphics object consisting of 2 graphics primitives"
      ]
     },
     "metadata": {},
     "output_type": "display_data"
    }
   ],
   "source": [
    "p1 = plot(f, (x, -2, 2), ymin=-5, ymax=5, legend_label=\"f(x)\")\n",
    "p2 = plot(fprime, (x, -2, 2), ymin=-5, ymax=5, color='red', legend_label=\"f'(x)\")\n",
    "show(p1+p2)"
   ]
  },
  {
   "cell_type": "markdown",
   "metadata": {},
   "source": [
    "# Problem 3\n",
    "Let $f(x) = 2x^6 - 4x^2 - \\sqrt{x}$.  Then what is f'(x)?\n",
    "\n",
    "### Answer\n",
    "We apply the power rule, constant multiple rule, and sum rules all at once to obtain\n",
    "\n",
    "$f'(x) = 12x^5 - 8x - \\frac{1}{2 \\sqrt{x}}$"
   ]
  },
  {
   "cell_type": "markdown",
   "metadata": {},
   "source": [
    "# Problem 4\n",
    "\n",
    "Evaluate the following limit and show your work\n",
    "\n",
    "$\\Large \\lim_{h \\to 0} \\frac{(5+h)^2 - 25}{h}$\n",
    "\n",
    "Find an $f(x)$ and an $a$ so that the limit represents $f'(a)$\n",
    "\n",
    "## Answer\n",
    "\n",
    "We can expand the numerator to obtain\n",
    "\n",
    "$\\Large \\lim_{h \\to 0} \\frac{25 + 10h + h^2 - 25}{h}$\n",
    "\n",
    "then we combine like terms to get\n",
    "\n",
    "$\\Large \\lim_{h \\to 0} \\frac{10h + h^2}{h} = \\lim_{h \\to 0} 10 + h = 10$\n",
    "\n",
    "We notice that by the definition of the derivative, this is actually the derivative of $f(x) = x^2$ at $a = 5$\n"
   ]
  },
  {
   "cell_type": "code",
   "execution_count": null,
   "metadata": {},
   "outputs": [],
   "source": []
  }
 ],
 "metadata": {
  "kernelspec": {
   "display_name": "SageMath 8.8",
   "language": "sage",
   "name": "sagemath"
  },
  "language_info": {
   "codemirror_mode": {
    "name": "ipython",
    "version": 3
   },
   "file_extension": ".py",
   "mimetype": "text/x-python",
   "name": "python",
   "nbconvert_exporter": "python",
   "pygments_lexer": "ipython3",
   "version": "3.7.1"
  }
 },
 "nbformat": 4,
 "nbformat_minor": 2
}
